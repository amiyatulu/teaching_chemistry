{
 "cells": [
  {
   "cell_type": "markdown",
   "metadata": {},
   "source": [
    "## Jupyter notebook to write notes and exercises\n",
    "\n",
    "Jupyter notebook can be used to make your notes and solve exercises with programming without using pen and paper.\n",
    "\n",
    "In order to write notes, you can use markdown which is a very simple markup language and can be learned within 15mins to get started.\n",
    "You can use latex and Unicode characters to write equations and symbols.\n",
    "\n",
    "To learn latex you can use google, e.g. website https://en.wikibooks.org/wiki/LaTeX/Mathematics \n",
    "\n",
    "**Jupyter notebook can be used in any subjects where calculation is required, such as physics, mathematics, economics, even biology etc.**\n",
    "\n",
    "No need to scratch your head, if you forgot the formula, or made mistakes done in calculation when done with pen and paper.\n",
    "\n",
    "**Learn by applying things that will be useful in real life situations**\n",
    "\n",
    "### This is how I taught chemistry \n",
    "\n",
    "## The Integrated Rate Law\n",
    "\n",
    "** The Dependance of Concentration on Time **\n",
    "\n",
    "Helps to know the relationship between the *concentration of a reactant and time*.\n",
    "\n",
    "\n",
    "\n",
    "### First Order Integrated Rate Law\n",
    "\n",
    "$$ [A] -> Products $$\n",
    "\n",
    "#### First-Order Integrated Rate Law\n",
    "\n",
    "$$ Rate = k[A] $$\n",
    "\n",
    "Since $ Rate = -\\Delta[A]/\\Delta t $, we can write:\n",
    "\n",
    "$$ - \\frac{\\Delta[A]}{\\Delta t} = k[A] $$\n",
    "\n",
    "The rate law in this form is known as the differential rate law.\n",
    "\n",
    "We can use calculas to integrate the differential rate law and obtain the first-order *integrated rate law*:\n",
    "\n",
    "$$ ln[A]_{t} = -kt + ln[A]_{0} $$\n",
    "\n",
    "Noteic that it forms an equation of a straight line\n",
    "\n",
    "$$ y = mx + b $$\n",
    "\n"
   ]
  },
  {
   "cell_type": "markdown",
   "metadata": {},
   "source": [
    "## Example\n",
    "\n",
    "Consider the equation for the decomposition of $ SO_{2}Cl_{2} $ :\n",
    "\n",
    "$$ SO_{2}Cl_{2}(g) -> SO_{2}(g) + Cl_{2}(g) $$\n",
    "\n",
    "The concentration of SO_{2}Cl_{2} was monitored at a fixed temperature as a function of time during the decomposition reaction and following data were tabulated:\n",
    "\n",
    "<table width=\"100%\">\n",
    "<tr>\n",
    "<td>Time (S)</td> \n",
    "<td>[SO<sub>2</sub>Cl<sub>2</sub>] (M)</td> \n",
    "<td> Time (s) </td> \n",
    "<td>[SO<sub>2</sub>Cl<sub>2</sub> (M)</td>\n",
    "</tr>\n",
    "<tr>\n",
    "<td>0</td> <td>0.100</td> <td>800</td> <td>0.0793</td>\n",
    "</tr>\n",
    "<tr>\n",
    "<td>100</td> <td>0.0971</td> <td>900</td> <td>0.0770</td>\n",
    "</tr>\n",
    "<tr>\n",
    "<td>200</td> <td>0.0944</td> <td>1000</td> <td>0.0748</td>\n",
    "</tr>\n",
    "<tr>\n",
    "<td>300</td> <td>0.0917</td> <td>1100</td> <td>0.0727</td>\n",
    "</tr>\n",
    "<tr>\n",
    "<td>400</td> <td>0.0890</td> <td>1200</td> <td>0.0706</td>\n",
    "</tr>\n",
    "<tr>\n",
    "<td>500</td> <td>0.0865</td> <td>1300</td> <td>0.0686</td>\n",
    "</tr>\n",
    "<tr>\n",
    "<td>600</td> <td>0.0840</td> <td>1400</td> <td>0.0666</td>\n",
    "</tr>\n",
    "<tr>\n",
    "<td>700</td> <td>0.0816</td> <td>1500</td> <td>0.0647</td>\n",
    "</tr>\n",
    "</table>\n",
    "\n",
    "Show that the reaction is first order.\n"
   ]
  },
  {
   "cell_type": "code",
   "execution_count": 1,
   "metadata": {
    "collapsed": false
   },
   "outputs": [
    {
     "name": "stdout",
     "output_type": "stream",
     "text": [
      "[-2.30258509 -2.3320139  -2.36021421 -2.3892329  -2.41911891 -2.44761087\n",
      " -2.47693848 -2.50592602 -2.53451715 -2.56394986 -2.59293739 -2.62141389\n",
      " -2.65072513 -2.67946274 -2.7090507  -2.73799408]\n",
      "slope = -0.000290148529101\n",
      "Y intercept = -2.30261931113\n"
     ]
    },
    {
     "data": {
      "text/plain": [
       "[<matplotlib.lines.Line2D at 0x7fbc5484bcc0>]"
      ]
     },
     "execution_count": 1,
     "metadata": {},
     "output_type": "execute_result"
    },
    {
     "data": {
      "image/png": "[encoded data removed]",
      "text/plain": [
       "<matplotlib.figure.Figure at 0x7fbc88cb8898>"
      ]
     },
     "metadata": {},
     "output_type": "display_data"
    }
   ],
   "source": [
    "%matplotlib inline\n",
    "\n",
    "import matplotlib\n",
    "import numpy as np\n",
    "import matplotlib.pyplot as plt\n",
    "from math import log\n",
    "\n",
    "y_values = [\n",
    "            0.100, 0.0971, 0.0944, 0.0917, 0.0890, 0.0865, 0.0840, 0.0816, 0.0793, 0.0770, 0.0748, 0.0727,\n",
    "            0.0706, 0.0686, 0.0666, 0.0647\n",
    "           ]\n",
    "y = np.log(y_values)\n",
    "print(y)\n",
    "x = [0,100,200,300,400,500,600,700,800, 900, 1000, 1100, 1200, 1300, 1400, 1500]\n",
    "fig, ax = plt.subplots()\n",
    "ax.set_xlim(800, 2000)\n",
    "ax.set_ylim(-2.8, -2.3)\n",
    "ax.set_yticks([-2.8, -2.7, -2.6, -2.5, -2.4, -2.3])\n",
    "ax.set_xticks([0, 500, 1000, 1500, 2000])\n",
    "ax.grid(True)\n",
    "slope, intercept = np.polyfit(x, y, 1)\n",
    "print( \"slope =\", slope)\n",
    "print( \"Y intercept =\", intercept)\n",
    "plt.plot(x, y)\n"
   ]
  },
  {
   "cell_type": "markdown",
   "metadata": {},
   "source": [
    "The plot is linear, confirming that the reation is inded first order."
   ]
  }
 ],
 "metadata": {
  "kernelspec": {
   "display_name": "Python 3",
   "language": "python",
   "name": "python3"
  },
  "language_info": {
   "codemirror_mode": {
    "name": "ipython",
    "version": 3
   },
   "file_extension": ".py",
   "mimetype": "text/x-python",
   "name": "python",
   "nbconvert_exporter": "python",
   "pygments_lexer": "ipython3",
   "version": "3.5.2"
  }
 },
 "nbformat": 4,
 "nbformat_minor": 0
}
